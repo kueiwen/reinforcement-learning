{
 "cells": [
  {
   "cell_type": "markdown",
   "id": "22b57ed8",
   "metadata": {},
   "source": [
    "# **Markov Decision Process**"
   ]
  },
  {
   "cell_type": "markdown",
   "id": "7822e086",
   "metadata": {},
   "source": [
    "Markov decision process (MDP) is an imprtant concept regarding reinforcement learning (RL), almost all RL probelms can be modeled as MDP. Not like other ML methods, RL does not need labels or rules, the agent of RL interact with the environment and get reward from the environment, which is the target to optimize. "
   ]
  },
  {
   "cell_type": "markdown",
   "id": "f6a95e34",
   "metadata": {},
   "source": []
  }
 ],
 "metadata": {
  "language_info": {
   "name": "python"
  }
 },
 "nbformat": 4,
 "nbformat_minor": 5
}
